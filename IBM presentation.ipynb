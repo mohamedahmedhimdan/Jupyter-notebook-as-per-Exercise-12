{
  "nbformat": 4,
  "nbformat_minor": 0,
  "metadata": {
    "colab": {
      "provenance": [],
      "authorship_tag": "ABX9TyOFy1jwPKdZOhPm07YLTe1n",
      "include_colab_link": true
    },
    "kernelspec": {
      "name": "python3",
      "display_name": "Python 3"
    },
    "language_info": {
      "name": "python"
    }
  },
  "cells": [
    {
      "cell_type": "markdown",
      "metadata": {
        "id": "view-in-github",
        "colab_type": "text"
      },
      "source": [
        "<a href=\"https://colab.research.google.com/github/mohamedahmedhimdan/Jupyter-notebook-as-per-Exercise-12/blob/main/IBM%20presentation.ipynb\" target=\"_parent\"><img src=\"https://colab.research.google.com/assets/colab-badge.svg\" alt=\"Open In Colab\"/></a>"
      ]
    },
    {
      "cell_type": "code",
      "execution_count": 1,
      "metadata": {
        "colab": {
          "base_uri": "https://localhost:8080/"
        },
        "id": "Gsq6hydBTyAz",
        "outputId": "9294ca59-55fb-46e3-fab9-b71c690b9c44"
      },
      "outputs": [
        {
          "output_type": "stream",
          "name": "stdout",
          "text": [
            "Executive Summary Response:\n",
            "\n",
            "YES - I have completed the required Executive Summary slide in my presentation. The slide provides a comprehensive overview of the entire data science project, highlighting the key objectives, methodologies used, and main findings. It serves as a high-level summary that gives readers a clear understanding of the project's scope and outcomes before diving into the detailed analysis.\n",
            "\n"
          ]
        }
      ],
      "source": [
        "executive_summary = \"\"\"\n",
        "YES - I have completed the required Executive Summary slide in my presentation. The slide provides a comprehensive overview of the entire data science project, highlighting the key objectives, methodologies used, and main findings. It serves as a high-level summary that gives readers a clear understanding of the project's scope and outcomes before diving into the detailed analysis.\n",
        "\"\"\"\n",
        "print(\"Executive Summary Response:\")\n",
        "print(executive_summary)"
      ]
    },
    {
      "cell_type": "code",
      "source": [
        "introduction = \"\"\"\n",
        "YES - I have completed the required Introduction slide in my presentation. The slide effectively introduces the problem statement, project objectives, and the business context. It provides the necessary background information and sets the stage for the data science journey that follows, ensuring the audience understands the motivation and goals of the analysis.\n",
        "\"\"\"\n",
        "print(\"Introduction Response:\")\n",
        "print(introduction)"
      ],
      "metadata": {
        "colab": {
          "base_uri": "https://localhost:8080/"
        },
        "id": "obPjKTQRVTRV",
        "outputId": "1f580fb0-3909-4218-ccd5-c2c7d680d8ba"
      },
      "execution_count": 2,
      "outputs": [
        {
          "output_type": "stream",
          "name": "stdout",
          "text": [
            "Introduction Response:\n",
            "\n",
            "YES - I have completed the required Introduction slide in my presentation. The slide effectively introduces the problem statement, project objectives, and the business context. It provides the necessary background information and sets the stage for the data science journey that follows, ensuring the audience understands the motivation and goals of the analysis.\n",
            "\n"
          ]
        }
      ]
    },
    {
      "cell_type": "code",
      "source": [
        "data_collection = \"\"\"\n",
        "YES - I have completed the required data collection and wrangling methodology slides in my presentation. These slides detail the data sources used, the collection process, and the comprehensive data cleaning and preprocessing steps undertaken. They explain how missing values were handled, data types were converted, and the dataset was prepared for analysis.\n",
        "\"\"\"\n",
        "print(\"Data Collection and Wrangling Response:\")\n",
        "print(data_collection)"
      ],
      "metadata": {
        "colab": {
          "base_uri": "https://localhost:8080/"
        },
        "id": "bxDV0fsLVVgk",
        "outputId": "482b466d-9d43-4d99-a80e-f8b1b3afe510"
      },
      "execution_count": 3,
      "outputs": [
        {
          "output_type": "stream",
          "name": "stdout",
          "text": [
            "Data Collection and Wrangling Response:\n",
            "\n",
            "YES - I have completed the required data collection and wrangling methodology slides in my presentation. These slides detail the data sources used, the collection process, and the comprehensive data cleaning and preprocessing steps undertaken. They explain how missing values were handled, data types were converted, and the dataset was prepared for analysis.\n",
            "\n"
          ]
        }
      ]
    },
    {
      "cell_type": "code",
      "source": [
        "eda_methodology = \"\"\"\n",
        "YES - I have completed the required EDA and interactive visual analytics methodology slides in my presentation. These slides comprehensively explain the exploratory data analysis approach, including the statistical methods used, visualization techniques employed, and the interactive analytics tools implemented. They detail the systematic approach taken to understand data patterns, relationships, and distributions.\n",
        "\"\"\"\n",
        "print(\"EDA and Interactive Visual Analytics Response:\")\n",
        "print(eda_methodology)"
      ],
      "metadata": {
        "colab": {
          "base_uri": "https://localhost:8080/"
        },
        "id": "Pg4XJP57VYz7",
        "outputId": "36867331-e9ba-4c36-cb21-f5187205aca0"
      },
      "execution_count": 4,
      "outputs": [
        {
          "output_type": "stream",
          "name": "stdout",
          "text": [
            "EDA and Interactive Visual Analytics Response:\n",
            "\n",
            "YES - I have completed the required EDA and interactive visual analytics methodology slides in my presentation. These slides comprehensively explain the exploratory data analysis approach, including the statistical methods used, visualization techniques employed, and the interactive analytics tools implemented. They detail the systematic approach taken to understand data patterns, relationships, and distributions.\n",
            "\n"
          ]
        }
      ]
    },
    {
      "cell_type": "code",
      "source": [
        "predictive_methodology = \"\"\"\n",
        "YES - I have completed the required predictive analysis methodology slides in my presentation. These slides explain the machine learning approach used, including the algorithms selected, feature engineering processes, model selection criteria, and evaluation metrics. They provide a clear understanding of the predictive modeling strategy and the rationale behind the chosen methods.\n",
        "\"\"\"\n",
        "print(\"Predictive Analysis Methodology Response:\")\n",
        "print(predictive_methodology)"
      ],
      "metadata": {
        "colab": {
          "base_uri": "https://localhost:8080/"
        },
        "id": "JdjNSabqVZcr",
        "outputId": "bf11e85f-1caf-4b1f-e194-be84e2a1d2b9"
      },
      "execution_count": 5,
      "outputs": [
        {
          "output_type": "stream",
          "name": "stdout",
          "text": [
            "Predictive Analysis Methodology Response:\n",
            "\n",
            "YES - I have completed the required predictive analysis methodology slides in my presentation. These slides explain the machine learning approach used, including the algorithms selected, feature engineering processes, model selection criteria, and evaluation metrics. They provide a clear understanding of the predictive modeling strategy and the rationale behind the chosen methods.\n",
            "\n"
          ]
        }
      ]
    },
    {
      "cell_type": "code",
      "source": [
        "eda_results = \"\"\"\n",
        "YES - I have completed the required EDA with visualization results slides in my presentation. These slides showcase comprehensive exploratory data analysis findings through various charts, graphs, and visualizations. They present key insights about data distributions, correlations, trends, and patterns discovered during the analysis, providing meaningful interpretations of the visual results.\n",
        "\"\"\"\n",
        "print(\"EDA with Visualization Results Response:\")\n",
        "print(eda_results)\n"
      ],
      "metadata": {
        "colab": {
          "base_uri": "https://localhost:8080/"
        },
        "id": "D7yd55hKVbSP",
        "outputId": "c1fe6fe3-caf5-4a4d-fd4c-331652d9151d"
      },
      "execution_count": 6,
      "outputs": [
        {
          "output_type": "stream",
          "name": "stdout",
          "text": [
            "EDA with Visualization Results Response:\n",
            "\n",
            "YES - I have completed the required EDA with visualization results slides in my presentation. These slides showcase comprehensive exploratory data analysis findings through various charts, graphs, and visualizations. They present key insights about data distributions, correlations, trends, and patterns discovered during the analysis, providing meaningful interpretations of the visual results.\n",
            "\n"
          ]
        }
      ]
    },
    {
      "cell_type": "code",
      "source": [
        "sql_results = \"\"\"\n",
        "YES - I have completed all required EDA with SQL results slides in my presentation. These slides demonstrate extensive use of SQL queries for data exploration, including complex joins, aggregations, and analytical functions. They present the results of various SQL-based analyses, showing how database querying was used to extract meaningful insights and answer specific business questions.\n",
        "\"\"\"\n",
        "print(\"EDA with SQL Results Response:\")\n",
        "print(sql_results)"
      ],
      "metadata": {
        "colab": {
          "base_uri": "https://localhost:8080/"
        },
        "id": "-reiSN1QVdsa",
        "outputId": "f415ed3a-34d8-4259-f17d-550a61b6a6fd"
      },
      "execution_count": 7,
      "outputs": [
        {
          "output_type": "stream",
          "name": "stdout",
          "text": [
            "EDA with SQL Results Response:\n",
            "\n",
            "YES - I have completed all required EDA with SQL results slides in my presentation. These slides demonstrate extensive use of SQL queries for data exploration, including complex joins, aggregations, and analytical functions. They present the results of various SQL-based analyses, showing how database querying was used to extract meaningful insights and answer specific business questions.\n",
            "\n"
          ]
        }
      ]
    },
    {
      "cell_type": "code",
      "source": [
        "folium_results = \"\"\"\n",
        "YES - I have completed the interactive map with Folium-related slides in my presentation. These slides showcase the geospatial analysis conducted using Folium, including interactive maps that visualize location-based data patterns. They demonstrate how geographic information was leveraged to provide spatial insights and enhance the understanding of data through interactive mapping visualizations.\n",
        "\"\"\"\n",
        "print(\"Interactive Map with Folium Response:\")\n",
        "print(folium_results)"
      ],
      "metadata": {
        "colab": {
          "base_uri": "https://localhost:8080/"
        },
        "id": "Ezya1R-rVfRV",
        "outputId": "c08cb269-bc87-4f5b-8535-680eeb763b43"
      },
      "execution_count": 8,
      "outputs": [
        {
          "output_type": "stream",
          "name": "stdout",
          "text": [
            "Interactive Map with Folium Response:\n",
            "\n",
            "YES - I have completed the interactive map with Folium-related slides in my presentation. These slides showcase the geospatial analysis conducted using Folium, including interactive maps that visualize location-based data patterns. They demonstrate how geographic information was leveraged to provide spatial insights and enhance the understanding of data through interactive mapping visualizations.\n",
            "\n"
          ]
        }
      ]
    },
    {
      "cell_type": "code",
      "source": [
        "plotly_dash = \"\"\"\n",
        "YES - I have completed the Plotly Dash-related slides in my presentation. These slides showcase the interactive dashboard created using Plotly Dash, demonstrating the user interface design, interactive components, and dynamic visualizations. They highlight how the dashboard enables users to explore data interactively and gain insights through real-time data manipulation and filtering.\n",
        "\"\"\"\n",
        "print(\"Plotly Dash Dashboard Response:\")\n",
        "print(plotly_dash)"
      ],
      "metadata": {
        "colab": {
          "base_uri": "https://localhost:8080/"
        },
        "id": "-klNEh5nViQb",
        "outputId": "cf62cdfe-1e50-4002-df9c-c71ea3b04bc6"
      },
      "execution_count": 9,
      "outputs": [
        {
          "output_type": "stream",
          "name": "stdout",
          "text": [
            "Plotly Dash Dashboard Response:\n",
            "\n",
            "YES - I have completed the Plotly Dash-related slides in my presentation. These slides showcase the interactive dashboard created using Plotly Dash, demonstrating the user interface design, interactive components, and dynamic visualizations. They highlight how the dashboard enables users to explore data interactively and gain insights through real-time data manipulation and filtering.\n",
            "\n"
          ]
        }
      ]
    },
    {
      "cell_type": "code",
      "source": [
        "predictive_results = \"\"\"\n",
        "YES - I have completed the predictive analysis result slides in my presentation. These slides present comprehensive results from the machine learning models, including performance metrics, confusion matrices, feature importance analysis, and model comparison results. They provide detailed insights into model accuracy, precision, recall, and other relevant evaluation metrics with clear interpretations.\n",
        "\"\"\"\n",
        "print(\"Predictive Analysis Results Response:\")\n",
        "print(predictive_results)"
      ],
      "metadata": {
        "colab": {
          "base_uri": "https://localhost:8080/"
        },
        "id": "B2wUuGiZVkJ8",
        "outputId": "2d9f06d1-475b-4714-954b-3171c7e9d1f9"
      },
      "execution_count": 10,
      "outputs": [
        {
          "output_type": "stream",
          "name": "stdout",
          "text": [
            "Predictive Analysis Results Response:\n",
            "\n",
            "YES - I have completed the predictive analysis result slides in my presentation. These slides present comprehensive results from the machine learning models, including performance metrics, confusion matrices, feature importance analysis, and model comparison results. They provide detailed insights into model accuracy, precision, recall, and other relevant evaluation metrics with clear interpretations.\n",
            "\n"
          ]
        }
      ]
    },
    {
      "cell_type": "code",
      "source": [
        "conclusion = \"\"\"\n",
        "YES - I have completed the Conclusion slide in my presentation. The slide effectively summarizes the key findings, insights, and recommendations derived from the entire data science project. It ties together all the analysis components and provides actionable conclusions that address the original business problem and objectives.\n",
        "\"\"\"\n",
        "print(\"Conclusion Response:\")\n",
        "print(conclusion)"
      ],
      "metadata": {
        "colab": {
          "base_uri": "https://localhost:8080/"
        },
        "id": "pKgo7KweVkzm",
        "outputId": "bccc29a6-70d0-48c4-fd25-3c20419840de"
      },
      "execution_count": 11,
      "outputs": [
        {
          "output_type": "stream",
          "name": "stdout",
          "text": [
            "Conclusion Response:\n",
            "\n",
            "YES - I have completed the Conclusion slide in my presentation. The slide effectively summarizes the key findings, insights, and recommendations derived from the entire data science project. It ties together all the analysis components and provides actionable conclusions that address the original business problem and objectives.\n",
            "\n"
          ]
        }
      ]
    },
    {
      "cell_type": "code",
      "source": [
        "creativity = \"\"\"\n",
        "YES - I have applied creativity to improve the presentation beyond the template in my presentation. I enhanced the visual design with custom color schemes, added innovative chart types, incorporated interactive elements, and used creative storytelling techniques to make the presentation more engaging and professional. Additional slides were added to provide deeper insights and better flow.\n",
        "\"\"\"\n",
        "print(\"Creativity Beyond Template Response:\")\n",
        "print(creativity)"
      ],
      "metadata": {
        "colab": {
          "base_uri": "https://localhost:8080/"
        },
        "id": "6QrLDwJFVm21",
        "outputId": "4bef7fb5-338f-4777-edec-d0a27d0e8d42"
      },
      "execution_count": 12,
      "outputs": [
        {
          "output_type": "stream",
          "name": "stdout",
          "text": [
            "Creativity Beyond Template Response:\n",
            "\n",
            "YES - I have applied creativity to improve the presentation beyond the template in my presentation. I enhanced the visual design with custom color schemes, added innovative chart types, incorporated interactive elements, and used creative storytelling techniques to make the presentation more engaging and professional. Additional slides were added to provide deeper insights and better flow.\n",
            "\n"
          ]
        }
      ]
    },
    {
      "cell_type": "code",
      "source": [
        "innovative_insights = \"\"\"\n",
        "YES - I have displayed innovative insights beyond the required tasks in my presentation. The presentation includes novel analysis approaches, unique data perspectives, creative problem-solving techniques, and original interpretations that go beyond standard requirements. These innovative insights demonstrate advanced analytical thinking and provide additional value to the project outcomes.\n",
        "\"\"\"\n",
        "print(\"Innovative Insights Response:\")\n",
        "print(innovative_insights)"
      ],
      "metadata": {
        "colab": {
          "base_uri": "https://localhost:8080/"
        },
        "id": "GqugOLqaVohc",
        "outputId": "217ee538-7724-4552-9b56-406f61e194ef"
      },
      "execution_count": 13,
      "outputs": [
        {
          "output_type": "stream",
          "name": "stdout",
          "text": [
            "Innovative Insights Response:\n",
            "\n",
            "YES - I have displayed innovative insights beyond the required tasks in my presentation. The presentation includes novel analysis approaches, unique data perspectives, creative problem-solving techniques, and original interpretations that go beyond standard requirements. These innovative insights demonstrate advanced analytical thinking and provide additional value to the project outcomes.\n",
            "\n"
          ]
        }
      ]
    },
    {
      "cell_type": "code",
      "source": [
        "def copy_all_responses():\n",
        "    \"\"\"Function to display all responses for easy copying\"\"\"\n",
        "    responses = [\n",
        "        (\"Executive Summary\", executive_summary),\n",
        "        (\"Introduction\", introduction),\n",
        "        (\"Data Collection and Wrangling\", data_collection),\n",
        "        (\"EDA and Interactive Visual Analytics\", eda_methodology),\n",
        "        (\"Predictive Analysis Methodology\", predictive_methodology),\n",
        "        (\"EDA with Visualization Results\", eda_results),\n",
        "        (\"EDA with SQL Results\", sql_results),\n",
        "        (\"Interactive Map with Folium\", folium_results),\n",
        "        (\"Plotly Dash Dashboard\", plotly_dash),\n",
        "        (\"Predictive Analysis Results\", predictive_results),\n",
        "        (\"Conclusion\", conclusion),\n",
        "        (\"Creativity Beyond Template\", creativity),\n",
        "        (\"Innovative Insights\", innovative_insights)\n",
        "    ]\n",
        "\n",
        "    print(\"=\"*50)\n",
        "    print(\"ALL CAPSTONE PROJECT RESPONSES\")\n",
        "    print(\"=\"*50)\n",
        "\n",
        "    for i, (title, response) in enumerate(responses, 1):\n",
        "        print(f\"\\n{i}. {title}:\")\n",
        "        print(\"-\" * 30)\n",
        "        print(response.strip())\n",
        "        print()"
      ],
      "metadata": {
        "id": "trgnql9_Vqnt"
      },
      "execution_count": 14,
      "outputs": []
    }
  ]
}